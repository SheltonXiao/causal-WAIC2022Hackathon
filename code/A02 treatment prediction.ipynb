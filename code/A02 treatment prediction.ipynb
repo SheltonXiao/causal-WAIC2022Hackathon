{
 "cells": [
  {
   "cell_type": "markdown",
   "metadata": {},
   "source": [
    "# A02 treatment prediction\n",
    "author:SheltonXiao"
   ]
  },
  {
   "cell_type": "code",
   "execution_count": 442,
   "metadata": {},
   "outputs": [],
   "source": [
    "import pandas as pd\n",
    "import numpy as np\n",
    "\n",
    "import optuna\n",
    "\n",
    "from sklearn.preprocessing import OneHotEncoder\n",
    "from sklearn.model_selection import train_test_split\n",
    "from sklearn.ensemble import RandomForestClassifier, RandomForestRegressor\n",
    "from sklearn.ensemble import GradientBoostingClassifier,GradientBoostingRegressor\n",
    "from sklearn.linear_model import LinearRegression,LassoCV\n",
    "from sklearn.metrics import mean_squared_error as rmse\n",
    "from sklearn.metrics import accuracy_score\n",
    "\n",
    "import matplotlib.pyplot as plt\n",
    "\n",
    "from ylearn.estimator_model import DML4CATE\n",
    "from ylearn.estimator_model.effect_score import RLoss\n",
    "from ylearn.estimator_model.doubly_robust import DoublyRobust"
   ]
  },
  {
   "cell_type": "code",
   "execution_count": 443,
   "metadata": {},
   "outputs": [],
   "source": [
    "np.random.seed(233)"
   ]
  },
  {
   "cell_type": "code",
   "execution_count": 444,
   "metadata": {},
   "outputs": [],
   "source": [
    "sW1C = [\"V_\"+str(each) for each in [5,19,24,14,15,2,36,31,28,39,10]]"
   ]
  },
  {
   "cell_type": "code",
   "execution_count": 445,
   "metadata": {},
   "outputs": [],
   "source": [
    "def cal_nrmse(y_real,y_pred):\n",
    "    return rmse(y_real,y_pred)/y_real.mean()"
   ]
  },
  {
   "cell_type": "code",
   "execution_count": 446,
   "metadata": {},
   "outputs": [],
   "source": [
    "np.random.seed(233)"
   ]
  },
  {
   "cell_type": "markdown",
   "metadata": {},
   "source": [
    "## Model 1"
   ]
  },
  {
   "cell_type": "code",
   "execution_count": 447,
   "metadata": {},
   "outputs": [],
   "source": [
    "train = pd.read_csv('../data/processed/train_nnfilled3.csv',index_col = None)\n",
    "test = pd.read_csv('../data/processed/test_nnfilled3.csv',index_col = None)"
   ]
  },
  {
   "cell_type": "code",
   "execution_count": 448,
   "metadata": {},
   "outputs": [],
   "source": [
    "V_new = train[sW1C + ['treatment'] + ['outcome']]"
   ]
  },
  {
   "cell_type": "code",
   "execution_count": 449,
   "metadata": {},
   "outputs": [],
   "source": [
    "colname = sW1C"
   ]
  },
  {
   "cell_type": "code",
   "execution_count": 450,
   "metadata": {},
   "outputs": [],
   "source": [
    "dml1 = DML4CATE(cf_fold=3, x_model=RandomForestClassifier(n_estimators=250, criterion=\"entropy\", max_depth=150, min_samples_leaf=2, min_samples_split=3, max_features=3,random_state=123),\n",
    "               y_model=RandomForestRegressor(n_estimators=250, max_depth=150, min_samples_leaf=2, min_samples_split=2, max_features=3,random_state=123), \n",
    "               is_discrete_treatment=True,random_state=2022)\n",
    "dml1.fit(data=V_new, outcome='outcome', treatment='treatment', covariate=colname,)\n",
    "ce_dml1 = dml1.effect_nji(data=V_new, control=0)\n",
    "ce_dml_test1 = dml1.effect_nji(data=test[colname], control=0)\n",
    "ce_dml_train1 = ce_dml1[:, :, 1:].reshape(-1, 2)\n",
    "ce_dml_all1 = np.concatenate([ce_dml_train1, ce_dml_test1[:, :, 1:].reshape(-1, 2)], axis=0)"
   ]
  },
  {
   "cell_type": "code",
   "execution_count": 451,
   "metadata": {},
   "outputs": [],
   "source": [
    "b = pd.read_csv(\"../output/result081702onlyfilldata082.csv\",index_col = None)"
   ]
  },
  {
   "cell_type": "code",
   "execution_count": 452,
   "metadata": {},
   "outputs": [
    {
     "data": {
      "text/plain": [
       "0.06689989551887501"
      ]
     },
     "execution_count": 452,
     "metadata": {},
     "output_type": "execute_result"
    }
   ],
   "source": [
    "cal_nrmse(b[\"ce_1\"],ce_dml_all1[:,0])"
   ]
  },
  {
   "cell_type": "code",
   "execution_count": 453,
   "metadata": {},
   "outputs": [],
   "source": [
    "#ce_dml_all1 = b.values"
   ]
  },
  {
   "cell_type": "markdown",
   "metadata": {},
   "source": [
    "## Model 2"
   ]
  },
  {
   "cell_type": "code",
   "execution_count": 454,
   "metadata": {},
   "outputs": [],
   "source": [
    "train = pd.read_csv('../data/processed/train_nnfilled3.csv',index_col = None)\n",
    "test = pd.read_csv('../data/processed/test_nnfilled3.csv',index_col = None)"
   ]
  },
  {
   "cell_type": "code",
   "execution_count": 455,
   "metadata": {},
   "outputs": [],
   "source": [
    "V_new = train[sW1C + ['treatment'] + ['outcome']]"
   ]
  },
  {
   "cell_type": "code",
   "execution_count": 456,
   "metadata": {},
   "outputs": [],
   "source": [
    "def onehot(V_new,test,col):\n",
    "    enc = OneHotEncoder()\n",
    "    enc.fit(V_new[[col]])\n",
    "    new = enc.transform(V_new[[col]]).toarray()\n",
    "    newtest = enc.transform(test[[col]]).toarray()\n",
    "    for i in range(new.shape[1]):\n",
    "        V_new[col+\"_\"+str(i)] = new[:,i]\n",
    "        test[col+\"_\"+str(i)] = newtest[:,i]\n",
    "    V_new = V_new.drop(columns = col)\n",
    "    test = test.drop(columns = col)\n",
    "    return V_new,test"
   ]
  },
  {
   "cell_type": "raw",
   "metadata": {},
   "source": [
    "V_new,test = onehot(V_new,test,\"V_10\")\n",
    "V_new,test = onehot(V_new,test,\"V_14\")"
   ]
  },
  {
   "cell_type": "code",
   "execution_count": 457,
   "metadata": {},
   "outputs": [],
   "source": [
    "#colname = [each for each in V_new.columns.tolist() if each not in ['treatment', 'outcome']]\n",
    "colname = sW1C"
   ]
  },
  {
   "cell_type": "code",
   "execution_count": 458,
   "metadata": {},
   "outputs": [],
   "source": [
    "dml2 = DML4CATE(cf_fold=3, x_model=RandomForestClassifier(n_estimators=150, criterion=\"entropy\", max_depth=190, min_samples_leaf=19, min_samples_split=4, max_features=2,random_state=233),\n",
    "               y_model=RandomForestRegressor(n_estimators=300, max_depth=80, min_samples_leaf=15, min_samples_split=4, max_features=3,random_state=233), \n",
    "               is_discrete_treatment=True,random_state=2022)\n",
    "dml2.fit(data=V_new, outcome='outcome', treatment='treatment', covariate=colname,)\n",
    "ce_dml2 = dml2.effect_nji(data=V_new, control=0)\n",
    "ce_dml_test2 = dml2.effect_nji(data=test[colname], control=0)\n",
    "ce_dml_train2 = ce_dml2[:, :, 1:].reshape(-1, 2)\n",
    "ce_dml_all2 = np.concatenate([ce_dml_train2, ce_dml_test2[:, :, 1:].reshape(-1, 2)], axis=0)"
   ]
  },
  {
   "cell_type": "markdown",
   "metadata": {},
   "source": [
    "## Model 3"
   ]
  },
  {
   "cell_type": "code",
   "execution_count": 459,
   "metadata": {},
   "outputs": [],
   "source": [
    "train = pd.read_csv('../data/processed/train_nnfilled3.csv',index_col = None)\n",
    "test = pd.read_csv('../data/processed/test_nnfilled3.csv',index_col = None)"
   ]
  },
  {
   "cell_type": "code",
   "execution_count": 460,
   "metadata": {},
   "outputs": [],
   "source": [
    "V_new = train[sW1C + ['treatment'] + ['outcome']]"
   ]
  },
  {
   "cell_type": "code",
   "execution_count": 461,
   "metadata": {},
   "outputs": [],
   "source": [
    "colname = sW1C"
   ]
  },
  {
   "cell_type": "code",
   "execution_count": 462,
   "metadata": {},
   "outputs": [
    {
     "data": {
      "text/plain": [
       "DoublyRobust(x_model=RandomForestClassifier(criterion='entropy', max_depth=150, max_features=3,\n",
       "                       min_samples_leaf=2, min_samples_split=3,\n",
       "                       n_estimators=250, random_state=233), y_model=RandomForestRegressor(max_depth=150, max_features=3, min_samples_leaf=2,\n",
       "                      n_estimators=250, random_state=233), yx_model=LinearRegression(), random_state=2022)"
      ]
     },
     "execution_count": 462,
     "metadata": {},
     "output_type": "execute_result"
    }
   ],
   "source": [
    "dr1 = DoublyRobust(cf_fold=1, \n",
    "                  x_model=RandomForestClassifier(n_estimators=250, criterion=\"entropy\", max_depth=150, \n",
    "                                                 min_samples_leaf=2, min_samples_split=3, max_features=3,random_state=233),\n",
    "                  y_model = RandomForestRegressor(n_estimators=250, max_depth=150, min_samples_leaf=2, min_samples_split=2, max_features=3,random_state=233), \n",
    "                  yx_model = LinearRegression(), random_state=2022)\n",
    "dr1.fit(data=V_new, outcome='outcome', treatment='treatment', covariate=colname, treat = [1,2], control = 0)"
   ]
  },
  {
   "cell_type": "code",
   "execution_count": 463,
   "metadata": {},
   "outputs": [],
   "source": [
    "ce_dr1 = dr1.estimate(data=V_new, quantity=None,all_tr_effects = True)\n",
    "ce_dr_test1 = dr1.estimate(data=test[sW1C], quantity=None,all_tr_effects = True)\n",
    "ce_dr_train1 = ce_dr1[:, :, 1:].reshape(-1, 2)\n",
    "ce_dr_all1 = np.concatenate([ce_dr_train1, ce_dr_test1[:, :, 1:].reshape(-1, 2)], axis=0)"
   ]
  },
  {
   "cell_type": "markdown",
   "metadata": {},
   "source": [
    "## Model 4"
   ]
  },
  {
   "cell_type": "code",
   "execution_count": 464,
   "metadata": {},
   "outputs": [],
   "source": [
    "train = pd.read_csv('../data/processed/train_nnfilled3.csv',index_col = None)\n",
    "test = pd.read_csv('../data/processed/test_nnfilled3.csv',index_col = None)"
   ]
  },
  {
   "cell_type": "code",
   "execution_count": 465,
   "metadata": {},
   "outputs": [],
   "source": [
    "V_new = train[sW1C + ['treatment'] + ['outcome']]"
   ]
  },
  {
   "cell_type": "code",
   "execution_count": 466,
   "metadata": {},
   "outputs": [],
   "source": [
    "colname = sW1C"
   ]
  },
  {
   "cell_type": "code",
   "execution_count": 467,
   "metadata": {},
   "outputs": [],
   "source": [
    "dml3 = DML4CATE(cf_fold=5, x_model=RandomForestClassifier(n_estimators=150, criterion=\"entropy\", max_depth=110, min_samples_leaf=16, min_samples_split=10, max_features=2,random_state=233),\n",
    "               y_model=RandomForestRegressor(n_estimators=200, max_depth=160, min_samples_leaf=8, min_samples_split=10, max_features=5,random_state=233), \n",
    "               is_discrete_treatment=True,random_state=2022)\n",
    "dml3.fit(data=V_new, outcome='outcome', treatment='treatment', covariate=colname,)\n",
    "ce_dml3 = dml3.effect_nji(data=V_new, control=0)\n",
    "ce_dml_test3 = dml3.effect_nji(data=test[colname], control=0)\n",
    "ce_dml_train3 = ce_dml3[:, :, 1:].reshape(-1, 2)\n",
    "ce_dml_all3 = np.concatenate([ce_dml_train3, ce_dml_test3[:, :, 1:].reshape(-1, 2)], axis=0)"
   ]
  },
  {
   "cell_type": "markdown",
   "metadata": {},
   "source": [
    "## Model 5"
   ]
  },
  {
   "cell_type": "markdown",
   "metadata": {},
   "source": [
    "考虑离群值和非离群值分开预测"
   ]
  },
  {
   "cell_type": "code",
   "execution_count": 468,
   "metadata": {},
   "outputs": [],
   "source": [
    "train = pd.read_csv('../data/processed/train_cleaned.csv')\n",
    "test = pd.read_csv('../data/processed/test_cleaned.csv')"
   ]
  },
  {
   "cell_type": "code",
   "execution_count": 469,
   "metadata": {},
   "outputs": [],
   "source": [
    "trainlabel = pd.read_csv('../data/processed/train_label.csv')\n",
    "testlabel = pd.read_csv('../data/processed/train_label2.csv')"
   ]
  },
  {
   "cell_type": "code",
   "execution_count": 470,
   "metadata": {},
   "outputs": [],
   "source": [
    "V_new = train[sW1C + ['treatment'] + ['outcome']]"
   ]
  },
  {
   "cell_type": "code",
   "execution_count": 471,
   "metadata": {},
   "outputs": [],
   "source": [
    "label1 = [not each for each in trainlabel.values]"
   ]
  },
  {
   "cell_type": "code",
   "execution_count": 472,
   "metadata": {},
   "outputs": [
    {
     "name": "stderr",
     "output_type": "stream",
     "text": [
      "C:\\Users\\Intel\\AppData\\Roaming\\Python\\Python37\\site-packages\\ipykernel_launcher.py:7: SettingWithCopyWarning: \n",
      "A value is trying to be set on a copy of a slice from a DataFrame.\n",
      "Try using .loc[row_indexer,col_indexer] = value instead\n",
      "\n",
      "See the caveats in the documentation: https://pandas.pydata.org/pandas-docs/stable/user_guide/indexing.html#returning-a-view-versus-a-copy\n",
      "  import sys\n"
     ]
    }
   ],
   "source": [
    "V_new,test = onehot(V_new,test,\"V_10\")\n",
    "V_new,test = onehot(V_new,test,\"V_14\")"
   ]
  },
  {
   "cell_type": "code",
   "execution_count": 473,
   "metadata": {},
   "outputs": [],
   "source": [
    "colname = [each for each in V_new.columns.tolist() if each not in ['treatment', 'outcome']]"
   ]
  },
  {
   "cell_type": "code",
   "execution_count": 474,
   "metadata": {},
   "outputs": [],
   "source": [
    "V_new2 = V_new[label1]"
   ]
  },
  {
   "cell_type": "code",
   "execution_count": 475,
   "metadata": {},
   "outputs": [],
   "source": [
    "dml5 = DML4CATE(cf_fold=5, x_model=RandomForestClassifier(n_estimators=300, criterion=\"entropy\", max_depth=90, min_samples_leaf=10, min_samples_split=7, max_features=2,random_state=123),\n",
    "               y_model=RandomForestRegressor(n_estimators=100, max_depth=50, min_samples_leaf=16, min_samples_split=3, max_features=4,random_state=123), \n",
    "               is_discrete_treatment=True,random_state=2022)\n",
    "dml5.fit(data=V_new2, outcome='outcome', treatment='treatment', covariate=colname,)\n",
    "ce_dml5 = dml5.effect_nji(data=V_new, control=0)\n",
    "ce_dml_test5 = dml5.effect_nji(data=test[colname], control=0)\n",
    "ce_dml_train5 = ce_dml5[:, :, 1:].reshape(-1, 2)\n",
    "ce_dml_all5 = np.concatenate([ce_dml_train5, ce_dml_test5[:, :, 1:].reshape(-1, 2)], axis=0)"
   ]
  },
  {
   "cell_type": "markdown",
   "metadata": {},
   "source": [
    "## 模型融合"
   ]
  },
  {
   "cell_type": "markdown",
   "metadata": {},
   "source": [
    "model1 2 3合力获取一个比较好的ce_1      \n",
    "因为treatment1样本不均匀的现象比较严重"
   ]
  },
  {
   "cell_type": "code",
   "execution_count": 476,
   "metadata": {},
   "outputs": [],
   "source": [
    "new_df = (pd.DataFrame(ce_dml_all2,columns = [\"ce_1\",\"ce_2\"])*1.3 + pd.DataFrame(ce_dr_all1,columns = [\"ce_1\",\"ce_2\"])*0.7)/2\n",
    "conbime_df1 = (pd.DataFrame(ce_dml_all1,columns = [\"ce_1\",\"ce_2\"]) + new_df)/2"
   ]
  },
  {
   "cell_type": "markdown",
   "metadata": {},
   "source": [
    "model4 获取一个比较好的ce_2      \n",
    "treatment2样本充足，用调参后的模型可以获取比较好的结果"
   ]
  },
  {
   "cell_type": "code",
   "execution_count": 477,
   "metadata": {},
   "outputs": [],
   "source": [
    "conbime_df2 = conbime_df1[[\"ce_1\"]]\n",
    "conbime_df2[\"ce_2\"] = ce_dml_all3[:,1]"
   ]
  },
  {
   "cell_type": "code",
   "execution_count": 478,
   "metadata": {},
   "outputs": [
    {
     "data": {
      "text/plain": [
       "array([[<AxesSubplot:title={'center':'ce_1'}>,\n",
       "        <AxesSubplot:title={'center':'ce_2'}>]], dtype=object)"
      ]
     },
     "execution_count": 478,
     "metadata": {},
     "output_type": "execute_result"
    },
    {
     "data": {
      "image/png": "[encoded data removed]",
      "text/plain": [
       "<Figure size 1080x360 with 2 Axes>"
      ]
     },
     "metadata": {
      "needs_background": "light"
     },
     "output_type": "display_data"
    }
   ],
   "source": [
    "conbime_df2.hist(figsize = (15,5), bins = 80)"
   ]
  },
  {
   "cell_type": "markdown",
   "metadata": {},
   "source": [
    "上述conbime_df2可以得到8月22日提交的0.7445的结果"
   ]
  },
  {
   "cell_type": "code",
   "execution_count": 479,
   "metadata": {},
   "outputs": [],
   "source": [
    "#ce_dml_all_a = conbime_df2 \n",
    "ce_dml_all_a = pd.read_csv(\"../output/result082205 5fold07445.csv\",index_col = None)"
   ]
  },
  {
   "cell_type": "code",
   "execution_count": 480,
   "metadata": {},
   "outputs": [
    {
     "data": {
      "text/plain": [
       "0.023210326536931385"
      ]
     },
     "execution_count": 480,
     "metadata": {},
     "output_type": "execute_result"
    }
   ],
   "source": [
    "cal_nrmse(ce_dml_all_a[\"ce_1\"],conbime_df2[\"ce_1\"])"
   ]
  },
  {
   "cell_type": "code",
   "execution_count": 481,
   "metadata": {},
   "outputs": [
    {
     "data": {
      "text/plain": [
       "0.016269647825596065"
      ]
     },
     "execution_count": 481,
     "metadata": {},
     "output_type": "execute_result"
    }
   ],
   "source": [
    "cal_nrmse(ce_dml_all_a[\"ce_2\"],conbime_df2[\"ce_2\"])"
   ]
  },
  {
   "cell_type": "markdown",
   "metadata": {},
   "source": [
    "再引入离群值分开预测的模型Model5进行融合"
   ]
  },
  {
   "cell_type": "code",
   "execution_count": 482,
   "metadata": {},
   "outputs": [],
   "source": [
    "def conbime_mask(source_array,mask,mask_array):\n",
    "    source_array[mask]  = mask_array[mask]\n",
    "    return pd.DataFrame(source_array,columns = [\"ce_1\",\"ce_2\"])"
   ]
  },
  {
   "cell_type": "code",
   "execution_count": 483,
   "metadata": {},
   "outputs": [],
   "source": [
    "#ce_dml_all_a = conbime_df2 "
   ]
  },
  {
   "cell_type": "code",
   "execution_count": 484,
   "metadata": {},
   "outputs": [],
   "source": [
    "totallabel = trainlabel.append(testlabel)\n",
    "conbime_df3 = conbime_mask(ce_dml_all5,totallabel.iloc[:,0],ce_dml_all_a.values)"
   ]
  },
  {
   "cell_type": "code",
   "execution_count": 485,
   "metadata": {},
   "outputs": [],
   "source": [
    "conbime_df4 = ((ce_dml_all_a*1.3 + conbime_df3*0.7)/2).copy()\n",
    "conbime_df4[\"ce_2\"] = ((ce_dml_all_a*0.25 + conbime_df3*1.75)/2)[\"ce_2\"]"
   ]
  },
  {
   "cell_type": "code",
   "execution_count": 486,
   "metadata": {},
   "outputs": [
    {
     "data": {
      "text/plain": [
       "array([[<AxesSubplot:title={'center':'ce_1'}>,\n",
       "        <AxesSubplot:title={'center':'ce_2'}>]], dtype=object)"
      ]
     },
     "execution_count": 486,
     "metadata": {},
     "output_type": "execute_result"
    },
    {
     "data": {
      "image/png": "[encoded data removed]",
      "text/plain": [
       "<Figure size 1080x360 with 2 Axes>"
      ]
     },
     "metadata": {
      "needs_background": "light"
     },
     "output_type": "display_data"
    }
   ],
   "source": [
    "conbime_df4.hist(figsize = (15,5), bins = 80)"
   ]
  },
  {
   "cell_type": "markdown",
   "metadata": {},
   "source": [
    "### 最后的结果"
   ]
  },
  {
   "cell_type": "code",
   "execution_count": 509,
   "metadata": {},
   "outputs": [],
   "source": [
    "re = pd.read_csv(\"../output/result.csv\",index_col = None)"
   ]
  },
  {
   "cell_type": "code",
   "execution_count": 518,
   "metadata": {},
   "outputs": [
    {
     "data": {
      "text/plain": [
       "0.057441950377301064"
      ]
     },
     "execution_count": 518,
     "metadata": {},
     "output_type": "execute_result"
    }
   ],
   "source": [
    "cal_nrmse(re[\"ce_1\"],conbime_df4[\"ce_1\"])"
   ]
  },
  {
   "cell_type": "code",
   "execution_count": 519,
   "metadata": {},
   "outputs": [
    {
     "data": {
      "text/plain": [
       "4.641958359532334e-19"
      ]
     },
     "execution_count": 519,
     "metadata": {},
     "output_type": "execute_result"
    }
   ],
   "source": [
    "cal_nrmse(re[\"ce_2\"],conbime_df4[\"ce_2\"])"
   ]
  },
  {
   "cell_type": "code",
   "execution_count": 490,
   "metadata": {},
   "outputs": [],
   "source": [
    "#conbime_df4.to_csv(\"../output/result.csv\",index = None)"
   ]
  },
  {
   "cell_type": "markdown",
   "metadata": {},
   "source": [
    "## 原始提交文件"
   ]
  },
  {
   "cell_type": "markdown",
   "metadata": {},
   "source": [
    "### Model 1 & 2 & 3的融合结果"
   ]
  },
  {
   "cell_type": "code",
   "execution_count": 495,
   "metadata": {},
   "outputs": [],
   "source": [
    "#2 & 3\n",
    "new_df = pd.read_csv(\"../output/result082004 137half08244.csv\",index_col = None)"
   ]
  },
  {
   "cell_type": "code",
   "execution_count": 496,
   "metadata": {},
   "outputs": [],
   "source": [
    "#1\n",
    "ce_dml_all1 = pd.read_csv(\"../output/result081702onlyfilldata082.csv\",index_col = None)"
   ]
  },
  {
   "cell_type": "code",
   "execution_count": 497,
   "metadata": {},
   "outputs": [],
   "source": [
    "conbime_df1 = (ce_dml_all1 + new_df)/2"
   ]
  },
  {
   "cell_type": "markdown",
   "metadata": {},
   "source": [
    "### 加上Model 4的融合结果"
   ]
  },
  {
   "cell_type": "code",
   "execution_count": 498,
   "metadata": {},
   "outputs": [],
   "source": [
    "ce_dml_all_a = pd.read_csv(\"../output/result082205 5fold07445.csv\",index_col = None)"
   ]
  },
  {
   "cell_type": "markdown",
   "metadata": {},
   "source": [
    "### 加上Model 5的融合结果"
   ]
  },
  {
   "cell_type": "code",
   "execution_count": 515,
   "metadata": {},
   "outputs": [],
   "source": [
    "ce_dml_all5 = pd.read_csv(\"../output/result082305 divide 5fold ce2 07394.csv\",index_col = None)"
   ]
  },
  {
   "cell_type": "code",
   "execution_count": 516,
   "metadata": {},
   "outputs": [],
   "source": [
    "totallabel = trainlabel.append(testlabel)\n",
    "conbime_df3 = conbime_mask(ce_dml_all5.values,totallabel.iloc[:,0],ce_dml_all_a.values)"
   ]
  },
  {
   "cell_type": "code",
   "execution_count": 517,
   "metadata": {},
   "outputs": [],
   "source": [
    "conbime_df4 = ((ce_dml_all_a*1.3 + conbime_df3*0.7)/2).copy()\n",
    "conbime_df4[\"ce_2\"] = ((ce_dml_all_a*0.25 + conbime_df3*1.75)/2)[\"ce_2\"]"
   ]
  },
  {
   "cell_type": "code",
   "execution_count": null,
   "metadata": {},
   "outputs": [],
   "source": [
    "#conbime_df4.to_csv(\"../output/result.csv\",index = None)"
   ]
  },
  {
   "cell_type": "markdown",
   "metadata": {},
   "source": [
    "## 其他代码"
   ]
  },
  {
   "cell_type": "code",
   "execution_count": 491,
   "metadata": {},
   "outputs": [],
   "source": [
    "def cal_nrmse(y_real,y_pred):\n",
    "    return rmse(y_real,y_pred)/y_real.mean()"
   ]
  },
  {
   "cell_type": "markdown",
   "metadata": {},
   "source": [
    "### 参数优化"
   ]
  },
  {
   "cell_type": "code",
   "execution_count": 492,
   "metadata": {},
   "outputs": [
    {
     "data": {
      "text/plain": [
       "RLoss"
      ]
     },
     "execution_count": 492,
     "metadata": {},
     "output_type": "execute_result"
    }
   ],
   "source": [
    "rloss = RLoss(x_model=RandomForestClassifier(),\n",
    "               y_model=RandomForestRegressor(),\n",
    "               cf_fold = 1,\n",
    "               is_discrete_treatment=True,\n",
    "               random_state=2022)\n",
    "rloss.fit(data=V_new, outcome='outcome', treatment='treatment', covariate=colname,)"
   ]
  },
  {
   "cell_type": "code",
   "execution_count": 493,
   "metadata": {},
   "outputs": [],
   "source": [
    "def create_model(trial):\n",
    "    n_estimators1 = trial.suggest_int('n_estimators1', 2, 6)*50 #100\n",
    "    #learning_rate = trial.suggest_uniform('learning_rate', 0.0001, 0.99)\n",
    "    max_depth1 = trial.suggest_int('max_depth1', 5, 20)*10#2,20\n",
    "    min_samples_leaf1 = trial.suggest_int('min_samples_leaf1', 2, 20)#2,100,80\n",
    "    min_samples_split1 = trial.suggest_int('min_samples_split1', 2, 10)\n",
    "    max_features1 = trial.suggest_int('max_features1', 2, 5)\n",
    "\n",
    "    n_estimators2 = trial.suggest_int('n_estimators2', 2, 6)*50 #100\n",
    "    #learning_rate = trial.suggest_uniform('learning_rate', 0.0001, 0.99)\n",
    "    max_depth2 = trial.suggest_int('max_depth2', 5, 20)*10#2,20\n",
    "    min_samples_leaf2 = trial.suggest_int('min_samples_leaf2', 2, 20)#2,100,80\n",
    "    min_samples_split2 = trial.suggest_int('min_samples_split2', 2, 10)\n",
    "    max_features2 = trial.suggest_int('max_features2', 2, 5)\n",
    "\n",
    "    \n",
    "    dml = DML4CATE(cf_fold=3, x_model=RandomForestClassifier(n_estimators=n_estimators1, criterion=\"entropy\", max_depth=max_depth1, \n",
    "                                                            min_samples_leaf=min_samples_leaf1, min_samples_split=min_samples_split1, max_features=max_features1),\n",
    "               y_model=RandomForestRegressor(n_estimators=n_estimators2, max_depth=max_depth2, min_samples_leaf=min_samples_leaf2, \n",
    "                                                min_samples_split=min_samples_split2, max_features=max_features2), \n",
    "               is_discrete_treatment=True,random_state=2022)\n",
    "    return dml\n",
    "\n",
    "def objective(trial):\n",
    "    model = create_model(trial)\n",
    "    model.fit(data=V_new, outcome='outcome', treatment='treatment', covariate=colname,)\n",
    "    loss = rloss.score(model)[0]\n",
    "    return loss"
   ]
  },
  {
   "cell_type": "raw",
   "metadata": {},
   "source": [
    "study = optuna.create_study(direction='minimize')\n",
    "study.optimize(objective, n_trials=40)\n",
    "params = study.best_params"
   ]
  }
 ],
 "metadata": {
  "kernelspec": {
   "display_name": "causalL",
   "language": "python",
   "name": "causall"
  },
  "language_info": {
   "codemirror_mode": {
    "name": "ipython",
    "version": 3
   },
   "file_extension": ".py",
   "mimetype": "text/x-python",
   "name": "python",
   "nbconvert_exporter": "python",
   "pygments_lexer": "ipython3",
   "version": "3.7.13"
  },
  "orig_nbformat": 4,
  "vscode": {
   "interpreter": {
    "hash": "fc63bdefa82b0e52e69d7b55bf4f4ec43d4fb7e45aa97b7564c8adf5462c5604"
   }
  }
 },
 "nbformat": 4,
 "nbformat_minor": 2
}
