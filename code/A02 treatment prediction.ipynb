{
 "cells": [
  {
   "cell_type": "markdown",
   "metadata": {},
   "source": [
    "# A02 treatment prediction\n",
    "author:SheltonXiao"
   ]
  },
  {
   "cell_type": "code",
   "execution_count": 1,
   "metadata": {},
   "outputs": [],
   "source": [
    "import pandas as pd\n",
    "import numpy as np\n",
    "\n",
    "import optuna\n",
    "\n",
    "from sklearn.preprocessing import OneHotEncoder\n",
    "from sklearn.model_selection import train_test_split\n",
    "from sklearn.ensemble import RandomForestClassifier, RandomForestRegressor\n",
    "from sklearn.ensemble import GradientBoostingClassifier,GradientBoostingRegressor\n",
    "from sklearn.linear_model import LinearRegression,LassoCV\n",
    "from sklearn.metrics import mean_squared_error as rmse\n",
    "from sklearn.metrics import accuracy_score\n",
    "\n",
    "import matplotlib.pyplot as plt\n",
    "\n",
    "from ylearn.estimator_model import DML4CATE\n",
    "from ylearn.estimator_model.effect_score import RLoss\n",
    "from ylearn.estimator_model.doubly_robust import DoublyRobust"
   ]
  },
  {
   "cell_type": "code",
   "execution_count": 2,
   "metadata": {},
   "outputs": [],
   "source": [
    "np.random.seed(233)"
   ]
  },
  {
   "cell_type": "code",
   "execution_count": 3,
   "metadata": {},
   "outputs": [],
   "source": [
    "sW1C = [\"V_\"+str(each) for each in [5,19,24,14,15,2,36,31,28,39,10]]"
   ]
  },
  {
   "cell_type": "markdown",
   "metadata": {},
   "source": [
    "## Model 1"
   ]
  },
  {
   "cell_type": "code",
   "execution_count": 4,
   "metadata": {},
   "outputs": [],
   "source": [
    "train = pd.read_csv('../data/processed/train_nnfilled3.csv',index_col = None)\n",
    "test = pd.read_csv('../data/processed/test_nnfilled3.csv',index_col = None)"
   ]
  },
  {
   "cell_type": "code",
   "execution_count": 5,
   "metadata": {},
   "outputs": [],
   "source": [
    "V_new = train[sW1C + ['treatment'] + ['outcome']]"
   ]
  },
  {
   "cell_type": "code",
   "execution_count": 6,
   "metadata": {},
   "outputs": [],
   "source": [
    "colname = sW1C"
   ]
  },
  {
   "cell_type": "code",
   "execution_count": 7,
   "metadata": {},
   "outputs": [],
   "source": [
    "dml1 = DML4CATE(cf_fold=3, x_model=RandomForestClassifier(n_estimators=250, criterion=\"entropy\", max_depth=150, min_samples_leaf=2, min_samples_split=3, max_features=3),\n",
    "               y_model=RandomForestRegressor(n_estimators=250, max_depth=150, min_samples_leaf=2, min_samples_split=2, max_features=3), \n",
    "               is_discrete_treatment=True,random_state=2022)\n",
    "dml1.fit(data=V_new, outcome='outcome', treatment='treatment', covariate=colname,)\n",
    "ce_dml1 = dml1.effect_nji(data=V_new, control=0)\n",
    "ce_dml_test1 = dml1.effect_nji(data=test[colname], control=0)\n",
    "ce_dml_train1 = ce_dml1[:, :, 1:].reshape(-1, 2)\n",
    "ce_dml_all1 = np.concatenate([ce_dml_train1, ce_dml_test1[:, :, 1:].reshape(-1, 2)], axis=0)"
   ]
  },
  {
   "cell_type": "markdown",
   "metadata": {},
   "source": [
    "## Model 2"
   ]
  },
  {
   "cell_type": "code",
   "execution_count": 8,
   "metadata": {},
   "outputs": [],
   "source": [
    "train = pd.read_csv('../data/processed/train_nnfilled3.csv',index_col = None)\n",
    "test = pd.read_csv('../data/processed/test_nnfilled3.csv',index_col = None)"
   ]
  },
  {
   "cell_type": "code",
   "execution_count": 9,
   "metadata": {},
   "outputs": [],
   "source": [
    "V_new = train[sW1C + ['treatment'] + ['outcome']]"
   ]
  },
  {
   "cell_type": "code",
   "execution_count": 10,
   "metadata": {},
   "outputs": [],
   "source": [
    "def onehot(V_new,test,col):\n",
    "    enc = OneHotEncoder()\n",
    "    enc.fit(V_new[[col]])\n",
    "    new = enc.transform(V_new[[col]]).toarray()\n",
    "    newtest = enc.transform(test[[col]]).toarray()\n",
    "    for i in range(new.shape[1]):\n",
    "        V_new[col+\"_\"+str(i)] = new[:,i]\n",
    "        test[col+\"_\"+str(i)] = newtest[:,i]\n",
    "    V_new = V_new.drop(columns = col)\n",
    "    test = test.drop(columns = col)\n",
    "    return V_new,test"
   ]
  },
  {
   "cell_type": "code",
   "execution_count": 11,
   "metadata": {},
   "outputs": [
    {
     "name": "stderr",
     "output_type": "stream",
     "text": [
      "C:\\Users\\Intel\\AppData\\Roaming\\Python\\Python37\\site-packages\\ipykernel_launcher.py:7: SettingWithCopyWarning: \n",
      "A value is trying to be set on a copy of a slice from a DataFrame.\n",
      "Try using .loc[row_indexer,col_indexer] = value instead\n",
      "\n",
      "See the caveats in the documentation: https://pandas.pydata.org/pandas-docs/stable/user_guide/indexing.html#returning-a-view-versus-a-copy\n",
      "  import sys\n"
     ]
    }
   ],
   "source": [
    "V_new,test = onehot(V_new,test,\"V_10\")\n",
    "V_new,test = onehot(V_new,test,\"V_14\")"
   ]
  },
  {
   "cell_type": "code",
   "execution_count": 12,
   "metadata": {},
   "outputs": [],
   "source": [
    "colname = [each for each in V_new.columns.tolist() if each not in ['treatment', 'outcome']]"
   ]
  },
  {
   "cell_type": "code",
   "execution_count": 13,
   "metadata": {},
   "outputs": [],
   "source": [
    "dml2 = DML4CATE(cf_fold=3, x_model=RandomForestClassifier(n_estimators=150, criterion=\"entropy\", max_depth=190, min_samples_leaf=19, min_samples_split=4, max_features=2),\n",
    "               y_model=RandomForestRegressor(n_estimators=300, max_depth=80, min_samples_leaf=15, min_samples_split=4, max_features=3), \n",
    "               is_discrete_treatment=True,random_state=2022)\n",
    "dml2.fit(data=V_new, outcome='outcome', treatment='treatment', covariate=colname,)\n",
    "ce_dml2 = dml2.effect_nji(data=V_new, control=0)\n",
    "ce_dml_test2 = dml2.effect_nji(data=test[colname], control=0)\n",
    "ce_dml_train2 = ce_dml2[:, :, 1:].reshape(-1, 2)\n",
    "ce_dml_all2 = np.concatenate([ce_dml_train2, ce_dml_test2[:, :, 1:].reshape(-1, 2)], axis=0)"
   ]
  },
  {
   "cell_type": "markdown",
   "metadata": {},
   "source": [
    "## Model 3"
   ]
  },
  {
   "cell_type": "code",
   "execution_count": 14,
   "metadata": {},
   "outputs": [],
   "source": [
    "train = pd.read_csv('../data/processed/train_nnfilled3.csv',index_col = None)\n",
    "test = pd.read_csv('../data/processed/test_nnfilled3.csv',index_col = None)"
   ]
  },
  {
   "cell_type": "code",
   "execution_count": 15,
   "metadata": {},
   "outputs": [],
   "source": [
    "V_new = train[sW1C + ['treatment'] + ['outcome']]"
   ]
  },
  {
   "cell_type": "code",
   "execution_count": 16,
   "metadata": {},
   "outputs": [],
   "source": [
    "colname = sW1C"
   ]
  },
  {
   "cell_type": "code",
   "execution_count": 17,
   "metadata": {},
   "outputs": [
    {
     "data": {
      "text/plain": [
       "DoublyRobust(x_model=RandomForestClassifier(criterion='entropy', max_depth=150, max_features=3,\n",
       "                       min_samples_leaf=2, min_samples_split=3,\n",
       "                       n_estimators=250), y_model=RandomForestRegressor(max_depth=150, max_features=3, min_samples_leaf=2,\n",
       "                      n_estimators=250), yx_model=LinearRegression())"
      ]
     },
     "execution_count": 17,
     "metadata": {},
     "output_type": "execute_result"
    }
   ],
   "source": [
    "dr1 = DoublyRobust(cf_fold=1, \n",
    "                  x_model=RandomForestClassifier(n_estimators=250, criterion=\"entropy\", max_depth=150, \n",
    "                                                 min_samples_leaf=2, min_samples_split=3, max_features=3),\n",
    "                  y_model = RandomForestRegressor(n_estimators=250, max_depth=150, min_samples_leaf=2, min_samples_split=2, max_features=3), \n",
    "                  yx_model = LinearRegression(), )\n",
    "dr1.fit(data=V_new, outcome='outcome', treatment='treatment', covariate=colname, treat = [1,2], control = 0)"
   ]
  },
  {
   "cell_type": "code",
   "execution_count": 18,
   "metadata": {},
   "outputs": [],
   "source": [
    "ce_dr1 = dr1.estimate(data=V_new, quantity=None,all_tr_effects = True)\n",
    "ce_dr_test1 = dr1.estimate(data=test[sW1C], quantity=None,all_tr_effects = True)\n",
    "ce_dr_train1 = ce_dr1[:, :, 1:].reshape(-1, 2)\n",
    "ce_dr_all1 = np.concatenate([ce_dr_train1, ce_dr_test1[:, :, 1:].reshape(-1, 2)], axis=0)"
   ]
  },
  {
   "cell_type": "markdown",
   "metadata": {},
   "source": [
    "## Model 4"
   ]
  },
  {
   "cell_type": "code",
   "execution_count": 19,
   "metadata": {},
   "outputs": [],
   "source": [
    "train = pd.read_csv('../data/processed/train_nnfilled3.csv',index_col = None)\n",
    "test = pd.read_csv('../data/processed/test_nnfilled3.csv',index_col = None)"
   ]
  },
  {
   "cell_type": "code",
   "execution_count": 20,
   "metadata": {},
   "outputs": [],
   "source": [
    "V_new = train[sW1C + ['treatment'] + ['outcome']]"
   ]
  },
  {
   "cell_type": "code",
   "execution_count": 21,
   "metadata": {},
   "outputs": [],
   "source": [
    "colname = sW1C"
   ]
  },
  {
   "cell_type": "code",
   "execution_count": 22,
   "metadata": {},
   "outputs": [],
   "source": [
    "dml3 = DML4CATE(cf_fold=5, x_model=RandomForestClassifier(n_estimators=150, criterion=\"entropy\", max_depth=110, min_samples_leaf=16, min_samples_split=10, max_features=2),\n",
    "               y_model=RandomForestRegressor(n_estimators=200, max_depth=160, min_samples_leaf=8, min_samples_split=10, max_features=5), \n",
    "               is_discrete_treatment=True,random_state=2022)\n",
    "dml3.fit(data=V_new, outcome='outcome', treatment='treatment', covariate=colname,)\n",
    "ce_dml3 = dml3.effect_nji(data=V_new, control=0)\n",
    "ce_dml_test3 = dml3.effect_nji(data=test[colname], control=0)\n",
    "ce_dml_train3 = ce_dml3[:, :, 1:].reshape(-1, 2)\n",
    "ce_dml_all3 = np.concatenate([ce_dml_train3, ce_dml_test3[:, :, 1:].reshape(-1, 2)], axis=0)"
   ]
  },
  {
   "cell_type": "markdown",
   "metadata": {},
   "source": [
    "## Model 5"
   ]
  },
  {
   "cell_type": "markdown",
   "metadata": {},
   "source": [
    "考虑离群值和非离群值分开预测"
   ]
  },
  {
   "cell_type": "code",
   "execution_count": 23,
   "metadata": {},
   "outputs": [],
   "source": [
    "train = pd.read_csv('../data/processed/train_cleaned.csv')\n",
    "test = pd.read_csv('../data/processed/test_cleaned.csv')"
   ]
  },
  {
   "cell_type": "code",
   "execution_count": 24,
   "metadata": {},
   "outputs": [],
   "source": [
    "trainlabel = pd.read_csv('../data/processed/train_label.csv')\n",
    "testlabel = pd.read_csv('../data/processed/train_label2.csv')"
   ]
  },
  {
   "cell_type": "code",
   "execution_count": 25,
   "metadata": {},
   "outputs": [],
   "source": [
    "V_new = train[sW1C + ['treatment'] + ['outcome']]"
   ]
  },
  {
   "cell_type": "code",
   "execution_count": 26,
   "metadata": {},
   "outputs": [],
   "source": [
    "label1 = [not each for each in trainlabel.values]"
   ]
  },
  {
   "cell_type": "code",
   "execution_count": 27,
   "metadata": {},
   "outputs": [
    {
     "name": "stderr",
     "output_type": "stream",
     "text": [
      "C:\\Users\\Intel\\AppData\\Roaming\\Python\\Python37\\site-packages\\ipykernel_launcher.py:7: SettingWithCopyWarning: \n",
      "A value is trying to be set on a copy of a slice from a DataFrame.\n",
      "Try using .loc[row_indexer,col_indexer] = value instead\n",
      "\n",
      "See the caveats in the documentation: https://pandas.pydata.org/pandas-docs/stable/user_guide/indexing.html#returning-a-view-versus-a-copy\n",
      "  import sys\n"
     ]
    }
   ],
   "source": [
    "V_new,test = onehot(V_new,test,\"V_10\")\n",
    "V_new,test = onehot(V_new,test,\"V_14\")"
   ]
  },
  {
   "cell_type": "code",
   "execution_count": 28,
   "metadata": {},
   "outputs": [],
   "source": [
    "colname = [each for each in V_new.columns.tolist() if each not in ['treatment', 'outcome']]"
   ]
  },
  {
   "cell_type": "code",
   "execution_count": 29,
   "metadata": {},
   "outputs": [],
   "source": [
    "V_new2 = V_new[label1]"
   ]
  },
  {
   "cell_type": "code",
   "execution_count": 30,
   "metadata": {},
   "outputs": [],
   "source": [
    "dml5 = DML4CATE(cf_fold=5, x_model=RandomForestClassifier(n_estimators=300, criterion=\"entropy\", max_depth=90, min_samples_leaf=10, min_samples_split=7, max_features=2),\n",
    "               y_model=RandomForestRegressor(n_estimators=100, max_depth=50, min_samples_leaf=16, min_samples_split=3, max_features=4), \n",
    "               is_discrete_treatment=True,random_state=2022)\n",
    "dml5.fit(data=V_new2, outcome='outcome', treatment='treatment', covariate=colname,)\n",
    "ce_dml5 = dml5.effect_nji(data=V_new, control=0)\n",
    "ce_dml_test5 = dml5.effect_nji(data=test[colname], control=0)\n",
    "ce_dml_train5 = ce_dml5[:, :, 1:].reshape(-1, 2)\n",
    "ce_dml_all5 = np.concatenate([ce_dml_train5, ce_dml_test5[:, :, 1:].reshape(-1, 2)], axis=0)"
   ]
  },
  {
   "cell_type": "markdown",
   "metadata": {},
   "source": [
    "## 模型融合"
   ]
  },
  {
   "cell_type": "markdown",
   "metadata": {},
   "source": [
    "model1 2 3合力获取一个比较好的ce_1      \n",
    "因为treatment1样本不均匀的现象比较严重"
   ]
  },
  {
   "cell_type": "code",
   "execution_count": 31,
   "metadata": {},
   "outputs": [],
   "source": [
    "new_df = (pd.DataFrame(ce_dml_all2,columns = [\"ce_1\",\"ce_2\"])*1.3 + pd.DataFrame(ce_dr_all1,columns = [\"ce_1\",\"ce_2\"])*0.7)/2\n",
    "conbime_df1 = (pd.DataFrame(ce_dml_all1,columns = [\"ce_1\",\"ce_2\"]) + new_df)/2"
   ]
  },
  {
   "cell_type": "markdown",
   "metadata": {},
   "source": [
    "model4 获取一个比较好的ce_2      \n",
    "treatment2样本充足，用调参后的模型可以获取比较好的结果"
   ]
  },
  {
   "cell_type": "code",
   "execution_count": 32,
   "metadata": {},
   "outputs": [],
   "source": [
    "conbime_df2 = conbime_df1[[\"ce_1\"]]\n",
    "conbime_df2[\"ce_2\"] = ce_dml_all3[:,1]"
   ]
  },
  {
   "cell_type": "code",
   "execution_count": 33,
   "metadata": {},
   "outputs": [
    {
     "data": {
      "text/plain": [
       "array([[<AxesSubplot:title={'center':'ce_1'}>,\n",
       "        <AxesSubplot:title={'center':'ce_2'}>]], dtype=object)"
      ]
     },
     "execution_count": 33,
     "metadata": {},
     "output_type": "execute_result"
    },
    {
     "data": {
      "image/png": "[encoded data removed]",
      "text/plain": [
       "<Figure size 1080x360 with 2 Axes>"
      ]
     },
     "metadata": {
      "needs_background": "light"
     },
     "output_type": "display_data"
    }
   ],
   "source": [
    "conbime_df2.hist(figsize = (15,5), bins = 80)"
   ]
  },
  {
   "cell_type": "markdown",
   "metadata": {},
   "source": [
    "上述conbime_df2可以得到8月22日提交的0.7445的结果"
   ]
  },
  {
   "cell_type": "code",
   "execution_count": 36,
   "metadata": {},
   "outputs": [],
   "source": [
    "ce_dml_all_a = conbime_df2 \n",
    "#ce_dml_all_a = pd.read_csv(\"../output/result082205 5fold07445.csv\",index_col = None)"
   ]
  },
  {
   "cell_type": "markdown",
   "metadata": {},
   "source": [
    "再引入离群值分开预测的模型Model5进行融合"
   ]
  },
  {
   "cell_type": "code",
   "execution_count": 37,
   "metadata": {},
   "outputs": [],
   "source": [
    "def conbime_mask(source_array,mask,mask_array):\n",
    "    source_array[mask]  = mask_array[mask]\n",
    "    return pd.DataFrame(source_array,columns = [\"ce_1\",\"ce_2\"])"
   ]
  },
  {
   "cell_type": "code",
   "execution_count": 38,
   "metadata": {},
   "outputs": [],
   "source": [
    "totallabel = trainlabel.append(testlabel)\n",
    "conbime_df3 = conbime_mask(ce_dml_all5,totallabel.iloc[:,0],ce_dml_all_a.values)"
   ]
  },
  {
   "cell_type": "code",
   "execution_count": 39,
   "metadata": {},
   "outputs": [],
   "source": [
    "conbime_df4 = ((ce_dml_all_a*1.3 + conbime_df3*0.7)/2).copy()\n",
    "conbime_df4[\"ce_2\"] = ((ce_dml_all_a*0.25 + conbime_df3*1.75)/2)[\"ce_2\"]"
   ]
  },
  {
   "cell_type": "code",
   "execution_count": 40,
   "metadata": {},
   "outputs": [
    {
     "data": {
      "text/plain": [
       "array([[<AxesSubplot:title={'center':'ce_1'}>,\n",
       "        <AxesSubplot:title={'center':'ce_2'}>]], dtype=object)"
      ]
     },
     "execution_count": 40,
     "metadata": {},
     "output_type": "execute_result"
    },
    {
     "data": {
      "image/png": "[encoded data removed]",
      "text/plain": [
       "<Figure size 1080x360 with 2 Axes>"
      ]
     },
     "metadata": {
      "needs_background": "light"
     },
     "output_type": "display_data"
    }
   ],
   "source": [
    "conbime_df4.hist(figsize = (15,5), bins = 80)"
   ]
  },
  {
   "cell_type": "markdown",
   "metadata": {},
   "source": [
    "### 最后的结果"
   ]
  },
  {
   "cell_type": "code",
   "execution_count": null,
   "metadata": {},
   "outputs": [],
   "source": [
    "conbime_df4.to_csv(\"../output/result.csv\",index = None)"
   ]
  },
  {
   "cell_type": "markdown",
   "metadata": {},
   "source": [
    "## 其他代码"
   ]
  },
  {
   "cell_type": "code",
   "execution_count": 39,
   "metadata": {},
   "outputs": [],
   "source": [
    "def cal_nrmse(y_real,y_pred):\n",
    "    return rmse(y_real,y_pred)/y_real.mean()"
   ]
  },
  {
   "cell_type": "markdown",
   "metadata": {},
   "source": [
    "### 参数优化"
   ]
  },
  {
   "cell_type": "code",
   "execution_count": null,
   "metadata": {},
   "outputs": [],
   "source": [
    "rloss = RLoss(x_model=RandomForestClassifier(),\n",
    "               y_model=RandomForestRegressor(),\n",
    "               cf_fold = 1,\n",
    "               is_discrete_treatment=True,\n",
    "               random_state=2022)\n",
    "rloss.fit(data=V_new, outcome='outcome', treatment='treatment', covariate=colname,)"
   ]
  },
  {
   "cell_type": "code",
   "execution_count": null,
   "metadata": {},
   "outputs": [],
   "source": [
    "def create_model(trial):\n",
    "    n_estimators1 = trial.suggest_int('n_estimators1', 2, 6)*50 #100\n",
    "    #learning_rate = trial.suggest_uniform('learning_rate', 0.0001, 0.99)\n",
    "    max_depth1 = trial.suggest_int('max_depth1', 5, 20)*10#2,20\n",
    "    min_samples_leaf1 = trial.suggest_int('min_samples_leaf1', 2, 20)#2,100,80\n",
    "    min_samples_split1 = trial.suggest_int('min_samples_split1', 2, 10)\n",
    "    max_features1 = trial.suggest_int('max_features1', 2, 5)\n",
    "\n",
    "    n_estimators2 = trial.suggest_int('n_estimators2', 2, 6)*50 #100\n",
    "    #learning_rate = trial.suggest_uniform('learning_rate', 0.0001, 0.99)\n",
    "    max_depth2 = trial.suggest_int('max_depth2', 5, 20)*10#2,20\n",
    "    min_samples_leaf2 = trial.suggest_int('min_samples_leaf2', 2, 20)#2,100,80\n",
    "    min_samples_split2 = trial.suggest_int('min_samples_split2', 2, 10)\n",
    "    max_features2 = trial.suggest_int('max_features2', 2, 5)\n",
    "\n",
    "    \n",
    "    dml = DML4CATE(cf_fold=3, x_model=RandomForestClassifier(n_estimators=n_estimators1, criterion=\"entropy\", max_depth=max_depth1, \n",
    "                                                            min_samples_leaf=min_samples_leaf1, min_samples_split=min_samples_split1, max_features=max_features1),\n",
    "               y_model=RandomForestRegressor(n_estimators=n_estimators2, max_depth=max_depth2, min_samples_leaf=min_samples_leaf2, \n",
    "                                                min_samples_split=min_samples_split2, max_features=max_features2), \n",
    "               is_discrete_treatment=True,random_state=2022)\n",
    "    return dml\n",
    "\n",
    "def objective(trial):\n",
    "    model = create_model(trial)\n",
    "    model.fit(data=V_new, outcome='outcome', treatment='treatment', covariate=colname,)\n",
    "    loss = rloss.score(model)[0]\n",
    "    return loss"
   ]
  },
  {
   "cell_type": "code",
   "execution_count": null,
   "metadata": {},
   "outputs": [
    {
     "name": "stderr",
     "output_type": "stream",
     "text": [
      "\u001b[32m[I 2022-08-23 15:08:21,808]\u001b[0m A new study created in memory with name: no-name-831efee1-fdb7-45a3-a210-c62759a484a2\u001b[0m\n",
      "\u001b[32m[I 2022-08-23 15:08:45,382]\u001b[0m Trial 0 finished with value: 9.933548086481983 and parameters: {'n_estimators1': 3, 'max_depth1': 9, 'min_samples_leaf1': 16, 'min_samples_split1': 4, 'max_features1': 4, 'n_estimators2': 3, 'max_depth2': 19, 'min_samples_leaf2': 6, 'min_samples_split2': 4, 'max_features2': 5}. Best is trial 0 with value: 9.933548086481983.\u001b[0m\n",
      "\u001b[32m[I 2022-08-23 15:09:05,468]\u001b[0m Trial 1 finished with value: 9.95102150746811 and parameters: {'n_estimators1': 4, 'max_depth1': 7, 'min_samples_leaf1': 17, 'min_samples_split1': 6, 'max_features1': 3, 'n_estimators2': 3, 'max_depth2': 20, 'min_samples_leaf2': 9, 'min_samples_split2': 7, 'max_features2': 2}. Best is trial 0 with value: 9.933548086481983.\u001b[0m\n",
      "\u001b[32m[I 2022-08-23 15:09:40,135]\u001b[0m Trial 2 finished with value: 9.969689238764802 and parameters: {'n_estimators1': 6, 'max_depth1': 5, 'min_samples_leaf1': 20, 'min_samples_split1': 4, 'max_features1': 5, 'n_estimators2': 4, 'max_depth2': 8, 'min_samples_leaf2': 5, 'min_samples_split2': 3, 'max_features2': 2}. Best is trial 0 with value: 9.933548086481983.\u001b[0m\n",
      "\u001b[32m[I 2022-08-23 15:09:54,616]\u001b[0m Trial 3 finished with value: 9.946906604003122 and parameters: {'n_estimators1': 3, 'max_depth1': 12, 'min_samples_leaf1': 20, 'min_samples_split1': 2, 'max_features1': 3, 'n_estimators2': 2, 'max_depth2': 16, 'min_samples_leaf2': 18, 'min_samples_split2': 7, 'max_features2': 4}. Best is trial 0 with value: 9.933548086481983.\u001b[0m\n",
      "\u001b[32m[I 2022-08-23 15:10:19,697]\u001b[0m Trial 4 finished with value: 9.9601685934508 and parameters: {'n_estimators1': 3, 'max_depth1': 17, 'min_samples_leaf1': 11, 'min_samples_split1': 4, 'max_features1': 5, 'n_estimators2': 4, 'max_depth2': 12, 'min_samples_leaf2': 3, 'min_samples_split2': 7, 'max_features2': 2}. Best is trial 0 with value: 9.933548086481983.\u001b[0m\n",
      "\u001b[32m[I 2022-08-23 15:10:41,970]\u001b[0m Trial 5 finished with value: 9.910828286340248 and parameters: {'n_estimators1': 4, 'max_depth1': 18, 'min_samples_leaf1': 9, 'min_samples_split1': 3, 'max_features1': 2, 'n_estimators2': 5, 'max_depth2': 8, 'min_samples_leaf2': 17, 'min_samples_split2': 2, 'max_features2': 3}. Best is trial 5 with value: 9.910828286340248.\u001b[0m\n",
      "\u001b[32m[I 2022-08-23 15:11:17,450]\u001b[0m Trial 6 finished with value: 9.958122270641699 and parameters: {'n_estimators1': 4, 'max_depth1': 9, 'min_samples_leaf1': 19, 'min_samples_split1': 8, 'max_features1': 5, 'n_estimators2': 6, 'max_depth2': 20, 'min_samples_leaf2': 17, 'min_samples_split2': 10, 'max_features2': 4}. Best is trial 5 with value: 9.910828286340248.\u001b[0m\n",
      "\u001b[32m[I 2022-08-23 15:11:54,240]\u001b[0m Trial 7 finished with value: 9.948759312491 and parameters: {'n_estimators1': 2, 'max_depth1': 16, 'min_samples_leaf1': 11, 'min_samples_split1': 9, 'max_features1': 5, 'n_estimators2': 6, 'max_depth2': 19, 'min_samples_leaf2': 3, 'min_samples_split2': 8, 'max_features2': 4}. Best is trial 5 with value: 9.910828286340248.\u001b[0m\n",
      "\u001b[32m[I 2022-08-23 15:12:08,082]\u001b[0m Trial 8 finished with value: 9.925156511914713 and parameters: {'n_estimators1': 2, 'max_depth1': 12, 'min_samples_leaf1': 7, 'min_samples_split1': 9, 'max_features1': 3, 'n_estimators2': 2, 'max_depth2': 19, 'min_samples_leaf2': 17, 'min_samples_split2': 5, 'max_features2': 3}. Best is trial 5 with value: 9.910828286340248.\u001b[0m\n",
      "\u001b[32m[I 2022-08-23 15:12:26,434]\u001b[0m Trial 9 finished with value: 9.954636328509293 and parameters: {'n_estimators1': 2, 'max_depth1': 5, 'min_samples_leaf1': 2, 'min_samples_split1': 10, 'max_features1': 5, 'n_estimators2': 2, 'max_depth2': 10, 'min_samples_leaf2': 18, 'min_samples_split2': 9, 'max_features2': 2}. Best is trial 5 with value: 9.910828286340248.\u001b[0m\n",
      "\u001b[32m[I 2022-08-23 15:13:00,702]\u001b[0m Trial 10 finished with value: 9.885086067133017 and parameters: {'n_estimators1': 6, 'max_depth1': 20, 'min_samples_leaf1': 6, 'min_samples_split1': 2, 'max_features1': 2, 'n_estimators2': 5, 'max_depth2': 5, 'min_samples_leaf2': 13, 'min_samples_split2': 2, 'max_features2': 3}. Best is trial 10 with value: 9.885086067133017.\u001b[0m\n",
      "\u001b[32m[I 2022-08-23 15:13:31,957]\u001b[0m Trial 11 finished with value: 9.92071466411213 and parameters: {'n_estimators1': 6, 'max_depth1': 20, 'min_samples_leaf1': 6, 'min_samples_split1': 2, 'max_features1': 2, 'n_estimators2': 5, 'max_depth2': 5, 'min_samples_leaf2': 13, 'min_samples_split2': 2, 'max_features2': 3}. Best is trial 10 with value: 9.885086067133017.\u001b[0m\n",
      "\u001b[32m[I 2022-08-23 15:13:59,271]\u001b[0m Trial 12 finished with value: 9.933367566607378 and parameters: {'n_estimators1': 5, 'max_depth1': 20, 'min_samples_leaf1': 7, 'min_samples_split1': 2, 'max_features1': 2, 'n_estimators2': 5, 'max_depth2': 5, 'min_samples_leaf2': 13, 'min_samples_split2': 2, 'max_features2': 3}. Best is trial 10 with value: 9.885086067133017.\u001b[0m\n",
      "\u001b[32m[I 2022-08-23 15:14:29,811]\u001b[0m Trial 13 finished with value: 9.943735382519508 and parameters: {'n_estimators1': 5, 'max_depth1': 17, 'min_samples_leaf1': 3, 'min_samples_split1': 5, 'max_features1': 2, 'n_estimators2': 5, 'max_depth2': 8, 'min_samples_leaf2': 14, 'min_samples_split2': 4, 'max_features2': 3}. Best is trial 10 with value: 9.885086067133017.\u001b[0m\n",
      "\u001b[32m[I 2022-08-23 15:15:00,755]\u001b[0m Trial 14 finished with value: 9.920508911215475 and parameters: {'n_estimators1': 5, 'max_depth1': 15, 'min_samples_leaf1': 9, 'min_samples_split1': 2, 'max_features1': 2, 'n_estimators2': 5, 'max_depth2': 7, 'min_samples_leaf2': 10, 'min_samples_split2': 2, 'max_features2': 5}. Best is trial 10 with value: 9.885086067133017.\u001b[0m\n",
      "\u001b[32m[I 2022-08-23 15:15:34,176]\u001b[0m Trial 15 finished with value: 9.943508988190544 and parameters: {'n_estimators1': 5, 'max_depth1': 19, 'min_samples_leaf1': 14, 'min_samples_split1': 3, 'max_features1': 4, 'n_estimators2': 6, 'max_depth2': 11, 'min_samples_leaf2': 20, 'min_samples_split2': 4, 'max_features2': 3}. Best is trial 10 with value: 9.885086067133017.\u001b[0m\n",
      "\u001b[32m[I 2022-08-23 15:16:11,200]\u001b[0m Trial 16 finished with value: 9.960121819187536 and parameters: {'n_estimators1': 6, 'max_depth1': 14, 'min_samples_leaf1': 5, 'min_samples_split1': 6, 'max_features1': 3, 'n_estimators2': 4, 'max_depth2': 14, 'min_samples_leaf2': 15, 'min_samples_split2': 5, 'max_features2': 4}. Best is trial 10 with value: 9.885086067133017.\u001b[0m\n",
      "\u001b[32m[I 2022-08-23 15:16:33,615]\u001b[0m Trial 17 finished with value: 9.894360712343836 and parameters: {'n_estimators1': 4, 'max_depth1': 18, 'min_samples_leaf1': 13, 'min_samples_split1': 3, 'max_features1': 2, 'n_estimators2': 5, 'max_depth2': 7, 'min_samples_leaf2': 11, 'min_samples_split2': 3, 'max_features2': 3}. Best is trial 10 with value: 9.885086067133017.\u001b[0m\n",
      "\u001b[32m[I 2022-08-23 15:16:54,470]\u001b[0m Trial 18 finished with value: 9.90291742121564 and parameters: {'n_estimators1': 5, 'max_depth1': 14, 'min_samples_leaf1': 14, 'min_samples_split1': 5, 'max_features1': 2, 'n_estimators2': 3, 'max_depth2': 6, 'min_samples_leaf2': 8, 'min_samples_split2': 3, 'max_features2': 4}. Best is trial 10 with value: 9.885086067133017.\u001b[0m\n",
      "\u001b[32m[I 2022-08-23 15:17:18,724]\u001b[0m Trial 19 finished with value: 9.94825244075644 and parameters: {'n_estimators1': 3, 'max_depth1': 18, 'min_samples_leaf1': 13, 'min_samples_split1': 7, 'max_features1': 4, 'n_estimators2': 6, 'max_depth2': 10, 'min_samples_leaf2': 11, 'min_samples_split2': 3, 'max_features2': 2}. Best is trial 10 with value: 9.885086067133017.\u001b[0m\n",
      "\u001b[32m[I 2022-08-23 15:17:45,426]\u001b[0m Trial 20 finished with value: 9.940948154354563 and parameters: {'n_estimators1': 4, 'max_depth1': 19, 'min_samples_leaf1': 9, 'min_samples_split1': 3, 'max_features1': 3, 'n_estimators2': 5, 'max_depth2': 14, 'min_samples_leaf2': 7, 'min_samples_split2': 5, 'max_features2': 3}. Best is trial 10 with value: 9.885086067133017.\u001b[0m\n",
      "\u001b[32m[I 2022-08-23 15:18:06,715]\u001b[0m Trial 21 finished with value: 9.919251883425657 and parameters: {'n_estimators1': 5, 'max_depth1': 14, 'min_samples_leaf1': 14, 'min_samples_split1': 5, 'max_features1': 2, 'n_estimators2': 3, 'max_depth2': 6, 'min_samples_leaf2': 8, 'min_samples_split2': 3, 'max_features2': 4}. Best is trial 10 with value: 9.885086067133017.\u001b[0m\n",
      "\u001b[32m[I 2022-08-23 15:18:30,390]\u001b[0m Trial 22 finished with value: 9.87603968372396 and parameters: {'n_estimators1': 6, 'max_depth1': 10, 'min_samples_leaf1': 16, 'min_samples_split1': 5, 'max_features1': 2, 'n_estimators2': 3, 'max_depth2': 6, 'min_samples_leaf2': 12, 'min_samples_split2': 3, 'max_features2': 5}. Best is trial 22 with value: 9.87603968372396.\u001b[0m\n",
      "\u001b[32m[I 2022-08-23 15:18:57,207]\u001b[0m Trial 23 finished with value: 9.892592438346805 and parameters: {'n_estimators1': 6, 'max_depth1': 10, 'min_samples_leaf1': 17, 'min_samples_split1': 3, 'max_features1': 2, 'n_estimators2': 4, 'max_depth2': 9, 'min_samples_leaf2': 12, 'min_samples_split2': 4, 'max_features2': 5}. Best is trial 22 with value: 9.87603968372396.\u001b[0m\n",
      "\u001b[32m[I 2022-08-23 15:19:26,250]\u001b[0m Trial 24 finished with value: 9.930193910027253 and parameters: {'n_estimators1': 6, 'max_depth1': 10, 'min_samples_leaf1': 17, 'min_samples_split1': 4, 'max_features1': 3, 'n_estimators2': 4, 'max_depth2': 9, 'min_samples_leaf2': 13, 'min_samples_split2': 4, 'max_features2': 5}. Best is trial 22 with value: 9.87603968372396.\u001b[0m\n",
      "\u001b[32m[I 2022-08-23 15:19:52,729]\u001b[0m Trial 25 finished with value: 9.909046556525652 and parameters: {'n_estimators1': 6, 'max_depth1': 11, 'min_samples_leaf1': 18, 'min_samples_split1': 3, 'max_features1': 2, 'n_estimators2': 4, 'max_depth2': 5, 'min_samples_leaf2': 15, 'min_samples_split2': 6, 'max_features2': 5}. Best is trial 22 with value: 9.87603968372396.\u001b[0m\n",
      "\u001b[32m[I 2022-08-23 15:20:16,527]\u001b[0m Trial 26 finished with value: 9.892174992262532 and parameters: {'n_estimators1': 6, 'max_depth1': 8, 'min_samples_leaf1': 15, 'min_samples_split1': 7, 'max_features1': 2, 'n_estimators2': 3, 'max_depth2': 7, 'min_samples_leaf2': 12, 'min_samples_split2': 2, 'max_features2': 5}. Best is trial 22 with value: 9.87603968372396.\u001b[0m\n",
      "\u001b[32m[I 2022-08-23 15:20:43,824]\u001b[0m Trial 27 finished with value: 9.97651807970578 and parameters: {'n_estimators1': 6, 'max_depth1': 8, 'min_samples_leaf1': 15, 'min_samples_split1': 7, 'max_features1': 3, 'n_estimators2': 3, 'max_depth2': 6, 'min_samples_leaf2': 10, 'min_samples_split2': 2, 'max_features2': 5}. Best is trial 22 with value: 9.87603968372396.\u001b[0m\n",
      "\u001b[32m[I 2022-08-23 15:21:15,168]\u001b[0m Trial 28 finished with value: 9.904399848688225 and parameters: {'n_estimators1': 6, 'max_depth1': 7, 'min_samples_leaf1': 4, 'min_samples_split1': 7, 'max_features1': 2, 'n_estimators2': 3, 'max_depth2': 7, 'min_samples_leaf2': 15, 'min_samples_split2': 2, 'max_features2': 5}. Best is trial 22 with value: 9.87603968372396.\u001b[0m\n",
      "\u001b[32m[I 2022-08-23 15:21:42,135]\u001b[0m Trial 29 finished with value: 9.937717106723328 and parameters: {'n_estimators1': 5, 'max_depth1': 7, 'min_samples_leaf1': 16, 'min_samples_split1': 8, 'max_features1': 4, 'n_estimators2': 2, 'max_depth2': 5, 'min_samples_leaf2': 5, 'min_samples_split2': 3, 'max_features2': 5}. Best is trial 22 with value: 9.87603968372396.\u001b[0m\n",
      "\u001b[32m[I 2022-08-23 15:22:11,302]\u001b[0m Trial 30 finished with value: 9.94604168269163 and parameters: {'n_estimators1': 6, 'max_depth1': 9, 'min_samples_leaf1': 12, 'min_samples_split1': 6, 'max_features1': 3, 'n_estimators2': 3, 'max_depth2': 9, 'min_samples_leaf2': 12, 'min_samples_split2': 6, 'max_features2': 4}. Best is trial 22 with value: 9.87603968372396.\u001b[0m\n",
      "\u001b[32m[I 2022-08-23 15:22:37,584]\u001b[0m Trial 31 finished with value: 9.89498190020242 and parameters: {'n_estimators1': 6, 'max_depth1': 10, 'min_samples_leaf1': 16, 'min_samples_split1': 4, 'max_features1': 2, 'n_estimators2': 4, 'max_depth2': 7, 'min_samples_leaf2': 12, 'min_samples_split2': 4, 'max_features2': 5}. Best is trial 22 with value: 9.87603968372396.\u001b[0m\n",
      "\u001b[32m[I 2022-08-23 15:23:04,213]\u001b[0m Trial 32 finished with value: 9.922722495885472 and parameters: {'n_estimators1': 6, 'max_depth1': 11, 'min_samples_leaf1': 18, 'min_samples_split1': 5, 'max_features1': 2, 'n_estimators2': 4, 'max_depth2': 9, 'min_samples_leaf2': 10, 'min_samples_split2': 3, 'max_features2': 5}. Best is trial 22 with value: 9.87603968372396.\u001b[0m\n",
      "\u001b[32m[I 2022-08-23 15:23:27,962]\u001b[0m Trial 33 finished with value: 9.887796225768922 and parameters: {'n_estimators1': 6, 'max_depth1': 8, 'min_samples_leaf1': 17, 'min_samples_split1': 6, 'max_features1': 2, 'n_estimators2': 3, 'max_depth2': 6, 'min_samples_leaf2': 12, 'min_samples_split2': 2, 'max_features2': 5}. Best is trial 22 with value: 9.87603968372396.\u001b[0m\n",
      "\u001b[32m[I 2022-08-23 15:23:51,356]\u001b[0m Trial 34 finished with value: 9.918269154795254 and parameters: {'n_estimators1': 6, 'max_depth1': 6, 'min_samples_leaf1': 19, 'min_samples_split1': 6, 'max_features1': 2, 'n_estimators2': 3, 'max_depth2': 6, 'min_samples_leaf2': 14, 'min_samples_split2': 2, 'max_features2': 5}. Best is trial 22 with value: 9.87603968372396.\u001b[0m\n",
      "\u001b[32m[I 2022-08-23 15:24:14,951]\u001b[0m Trial 35 finished with value: 9.922583193178259 and parameters: {'n_estimators1': 5, 'max_depth1': 8, 'min_samples_leaf1': 15, 'min_samples_split1': 8, 'max_features1': 3, 'n_estimators2': 3, 'max_depth2': 8, 'min_samples_leaf2': 14, 'min_samples_split2': 3, 'max_features2': 5}. Best is trial 22 with value: 9.87603968372396.\u001b[0m\n",
      "\u001b[32m[I 2022-08-23 15:24:35,059]\u001b[0m Trial 36 finished with value: 9.915065733895664 and parameters: {'n_estimators1': 6, 'max_depth1': 8, 'min_samples_leaf1': 15, 'min_samples_split1': 6, 'max_features1': 2, 'n_estimators2': 2, 'max_depth2': 17, 'min_samples_leaf2': 9, 'min_samples_split2': 2, 'max_features2': 4}. Best is trial 22 with value: 9.87603968372396.\u001b[0m\n",
      "\u001b[32m[I 2022-08-23 15:24:59,771]\u001b[0m Trial 37 finished with value: 9.920412835999313 and parameters: {'n_estimators1': 5, 'max_depth1': 6, 'min_samples_leaf1': 20, 'min_samples_split1': 7, 'max_features1': 3, 'n_estimators2': 3, 'max_depth2': 6, 'min_samples_leaf2': 9, 'min_samples_split2': 2, 'max_features2': 5}. Best is trial 22 with value: 9.87603968372396.\u001b[0m\n",
      "\u001b[32m[I 2022-08-23 15:25:22,344]\u001b[0m Trial 38 finished with value: 9.868587982470423 and parameters: {'n_estimators1': 6, 'max_depth1': 9, 'min_samples_leaf1': 10, 'min_samples_split1': 7, 'max_features1': 2, 'n_estimators2': 2, 'max_depth2': 5, 'min_samples_leaf2': 16, 'min_samples_split2': 3, 'max_features2': 4}. Best is trial 38 with value: 9.868587982470423.\u001b[0m\n",
      "\u001b[32m[I 2022-08-23 15:25:44,807]\u001b[0m Trial 39 finished with value: 9.88182695428556 and parameters: {'n_estimators1': 6, 'max_depth1': 13, 'min_samples_leaf1': 10, 'min_samples_split1': 5, 'max_features1': 2, 'n_estimators2': 2, 'max_depth2': 5, 'min_samples_leaf2': 16, 'min_samples_split2': 5, 'max_features2': 4}. Best is trial 38 with value: 9.868587982470423.\u001b[0m\n"
     ]
    }
   ],
   "source": [
    "study = optuna.create_study(direction='minimize')\n",
    "study.optimize(objective, n_trials=40)\n",
    "params = study.best_params"
   ]
  }
 ],
 "metadata": {
  "kernelspec": {
   "display_name": "causalL",
   "language": "python",
   "name": "causall"
  },
  "language_info": {
   "codemirror_mode": {
    "name": "ipython",
    "version": 3
   },
   "file_extension": ".py",
   "mimetype": "text/x-python",
   "name": "python",
   "nbconvert_exporter": "python",
   "pygments_lexer": "ipython3",
   "version": "3.7.13"
  },
  "orig_nbformat": 4,
  "vscode": {
   "interpreter": {
    "hash": "fc63bdefa82b0e52e69d7b55bf4f4ec43d4fb7e45aa97b7564c8adf5462c5604"
   }
  }
 },
 "nbformat": 4,
 "nbformat_minor": 2
}
